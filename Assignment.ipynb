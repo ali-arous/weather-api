{
 "cells": [
  {
   "cell_type": "markdown",
   "id": "94b57c79",
   "metadata": {},
   "source": [
    "#### Ali - Assignment"
   ]
  },
  {
   "cell_type": "code",
   "execution_count": 1,
   "id": "30fb5fa6",
   "metadata": {},
   "outputs": [],
   "source": [
    "import requests\n",
    "import sqlite3\n",
    "from decouple import config\n",
    "from sqlite3 import Error\n",
    "from datetime import datetime\n",
    "\n",
    "def createDB_or_connect(db_file):\n",
    "    #create a database connection to a SQLite database\n",
    "    try:\n",
    "        conn = sqlite3.connect(db_file)\n",
    "    except Error as e:\n",
    "        print(e)\n",
    "    return conn\n",
    "\n",
    "\n",
    "def create_table(conn, create_table_sql):\n",
    "    # create a table from the create_table_sql statement\n",
    "    try:\n",
    "        c = conn.cursor()\n",
    "        c.execute(create_table_sql)\n",
    "        print('table created!')\n",
    "        c.close()\n",
    "    except Error as e:\n",
    "        print(e)\n",
    "\n",
    "        \n",
    "def query_db(conn, sql_query):\n",
    "    # query data from DB\n",
    "    cur = conn.cursor()\n",
    "    cur.execute(sql_query)\n",
    "    \n",
    "    rows = cur.fetchall()\n",
    "    \n",
    "    for row in rows:\n",
    "        print(row[0])\n",
    "\n",
    "        \n",
    "def insert_metric(conn, station_id, end_date, metric, measurement, measurement_type, granularity):\n",
    "    # insert a new metric\n",
    "    sql = ''' INSERT INTO weather_metric(station_id,end_date,metric,measurement,measurement_type,granularity)\n",
    "              VALUES(?,?,?,?,?,?) '''\n",
    "    try:\n",
    "        cur = conn.cursor()\n",
    "        cur.execute(sql, (station_id, end_date, metric, measurement, measurement_type, granularity))\n",
    "        conn.commit()\n",
    "    except Error as e:\n",
    "        print(e)\n",
    "    return cur.lastrowid\n",
    "\n",
    "\n",
    "def pull_data(station_id, start_date, end_date, frequency):\n",
    "    # pull data from API\n",
    "    assert frequency in ['daily', 'monthly'], frequency\n",
    "    \n",
    "    url = 'https://meteostat.p.rapidapi.com/stations/' + frequency\n",
    "\n",
    "    querystring = {\"station\":station_id,\"start\":start_date,\"end\":end_date, \"tz\":\"Europe/Berlin\"}\n",
    "    \n",
    "    if frequency == 'monthly':\n",
    "        querystring[\"freq\"]=\"M\"\n",
    "    \n",
    "    api_key = config('api_key',default='')\n",
    "    headers = {\n",
    "        'x-rapidapi-key': api_key,\n",
    "        'x-rapidapi-host': \"meteostat.p.rapidapi.com\"\n",
    "        }\n",
    "\n",
    "    response = requests.request(\"GET\", url, headers=headers, params=querystring)\n",
    "    return response.json()\n",
    "\n",
    "\n",
    "def import_historical_monthly_avg_temperature(station_id, start_date, end_date):\n",
    "    # import historical monthly data from API and store it in DB\n",
    "    json=pull_data(station_id, start_date, end_date, frequency='monthly')    \n",
    "    \n",
    "    if json:\n",
    "        print('data pulled from the API..')\n",
    "        \n",
    "    conn = createDB_or_connect(r\"weather.db\")\n",
    "    if conn:\n",
    "        print('connected to DB..')\n",
    "    \n",
    "    for month in json['data']:    \n",
    "        insert_metric(conn, station_id, month['date'], 'Temperature', month['tavg'], 'avg', 'M')\n",
    "    conn.close()\n",
    "    print('Done importing data!')\n",
    "    \n",
    "    \n",
    "def import_daily_avg_temperature(station_id, start_date, end_date):\n",
    "    # import daily data from API and store it in DB\n",
    "    json=pull_data(station_id, start_date, end_date, frequency='daily')    \n",
    "    \n",
    "    if json:\n",
    "        print('data pulled from the API..')\n",
    "        \n",
    "    conn = createDB_or_connect(r\"weather.db\")\n",
    "    if conn:\n",
    "        print('connected to DB..')\n",
    "    \n",
    "    for day in json['data']:    \n",
    "        insert_metric(conn, station_id, day['date'], 'Temperature', day['tavg'], 'avg', 'D')\n",
    "    conn.close()\n",
    "    print('Done importing data!')\n",
    "    \n",
    "\n",
    "def import_today_avg_temperature(station_id):\n",
    "    # import today's data to DB\n",
    "    today_date = datetime.today().strftime('%Y-%m-%d')\n",
    "    import_daily_avg_temperature(station_id, today_date, today_date)"
   ]
  },
  {
   "cell_type": "code",
   "execution_count": 2,
   "id": "e8700c46",
   "metadata": {},
   "outputs": [
    {
     "name": "stdout",
     "output_type": "stream",
     "text": [
      "table created!\n"
     ]
    }
   ],
   "source": [
    "# creatre weather database\n",
    "conn = createDB_or_connect(r\"weather.db\")\n",
    "\n",
    "# create weather_metric table with:\n",
    "# id: incremental id for each record\n",
    "# station_id: the id of the station at which the metric is recorded\n",
    "# end_date: the end date at which the measurement is concluded (e.g., for month it's the date of last day)\n",
    "# metric: the name of the metric (e.g., Temperature)\n",
    "# measurement: the real-valued number representing the measurement of the metric name\n",
    "# measurement_type: specifies whether the measurement is a point value or an aggregated value (e.g., avg)\n",
    "# grandularity: specifies the timespan unit across which the measurement is concluded (e.g., 'M' for month, 'D' for day)\n",
    "\n",
    "create_temperature_table = \"\"\" CREATE TABLE IF NOT EXISTS weather_metric (\n",
    "                                        id integer PRIMARY KEY AUTOINCREMENT,\n",
    "                                        station_id integer NOT NULL,\n",
    "                                        end_date text NOT NULL,\n",
    "                                        metric text NOT NULL,\n",
    "                                        measurement real,\n",
    "                                        measurement_type text,\n",
    "                                        granularity text NOT NULL\n",
    "                                    ); \"\"\"\n",
    "\n",
    "create_table(conn, create_temperature_table)"
   ]
  },
  {
   "cell_type": "code",
   "execution_count": 3,
   "id": "ef48c843",
   "metadata": {},
   "outputs": [
    {
     "name": "stdout",
     "output_type": "stream",
     "text": [
      "data pulled from the API..\n",
      "connected to DB..\n",
      "Done importing data!\n"
     ]
    }
   ],
   "source": [
    "# to identify the station_id for 'Berlin / Tegel', we pinpointed the place on google maps\n",
    "# and queried the 'nearby' endpoint using at: \"https://meteostat.p.rapidapi.com/stations/nearby\" \n",
    "# passing it in the query string the lat and long of the 'Berlin / Tegel' with limit=1 (to only return that station)\n",
    "\n",
    "import_historical_monthly_avg_temperature(10382, \"1963-01-01\", \"2021-05-31\")"
   ]
  },
  {
   "cell_type": "code",
   "execution_count": 4,
   "id": "3135a374",
   "metadata": {},
   "outputs": [
    {
     "name": "stdout",
     "output_type": "stream",
     "text": [
      "Average air temperature for the month of February for the Berlin/Tegel weather station across all available years is:\n",
      "1.3661016949152545\n"
     ]
    }
   ],
   "source": [
    "sql_query = \"\"\"\n",
    "                SELECT AVG(measurement) AS AVG_TEMPERATURE FROM weather_metric \n",
    "                WHERE granularity='M' AND SUBSTR(end_date, 6, 2) = '02';\n",
    "                \"\"\"\n",
    "print('Average air temperature for the month of February for the Berlin/Tegel weather station across all available years is:')\n",
    "query_db(conn, sql_query)"
   ]
  }
 ],
 "metadata": {
  "kernelspec": {
   "display_name": "Python 3",
   "language": "python",
   "name": "python3"
  },
  "language_info": {
   "codemirror_mode": {
    "name": "ipython",
    "version": 3
   },
   "file_extension": ".py",
   "mimetype": "text/x-python",
   "name": "python",
   "nbconvert_exporter": "python",
   "pygments_lexer": "ipython3",
   "version": "3.7.3"
  }
 },
 "nbformat": 4,
 "nbformat_minor": 5
}
